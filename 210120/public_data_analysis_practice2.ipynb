{
 "cells": [
  {
   "cell_type": "markdown",
   "metadata": {},
   "source": [
    "# 공공데이터 분석 연습2\n",
    "https://www.data.go.kr/data/15007115/fileData.do"
   ]
  },
  {
   "cell_type": "markdown",
   "metadata": {},
   "source": [
    "# 가설\n",
    "- 정형외과 진료횟수가 성별과 관련이 있을까?\n",
    "- 나이와 정형외과 진료횟수에 상관관계가 있을까?"
   ]
  },
  {
   "cell_type": "code",
   "execution_count": 1,
   "metadata": {},
   "outputs": [],
   "source": [
    "import pandas as pd\n",
    "import numpy as np\n",
    "import seaborn as sns\n",
    "import matplotlib.pyplot as plt\n",
    "\n",
    "%matplotlib inline"
   ]
  },
  {
   "cell_type": "code",
   "execution_count": 2,
   "metadata": {},
   "outputs": [],
   "source": [
    "import os\n",
    "\n",
    "if os.name == \"posix\":\n",
    "    plt.rc(\"font\", family=\"AppleGothic\")\n",
    "else :\n",
    "    plt.rc(\"font\", family=\"Malgun Gothic\")\n",
    "# 마이너스 폰트 깨지는 문제 해결\n",
    "plt.rc(\"axes\", unicode_minus=False)"
   ]
  },
  {
   "cell_type": "code",
   "execution_count": 3,
   "metadata": {},
   "outputs": [
    {
     "data": {
      "text/plain": [
       "(4624144, 19)"
      ]
     },
     "execution_count": 3,
     "metadata": {},
     "output_type": "execute_result"
    }
   ],
   "source": [
    "df = pd.read_csv(\"T20_2019_1백만.1.csv\", encoding=\"cp949\")\n",
    "df.shape"
   ]
  },
  {
   "cell_type": "code",
   "execution_count": 4,
   "metadata": {},
   "outputs": [
    {
     "data": {
      "text/html": [
       "<div>\n",
       "<style scoped>\n",
       "    .dataframe tbody tr th:only-of-type {\n",
       "        vertical-align: middle;\n",
       "    }\n",
       "\n",
       "    .dataframe tbody tr th {\n",
       "        vertical-align: top;\n",
       "    }\n",
       "\n",
       "    .dataframe thead th {\n",
       "        text-align: right;\n",
       "    }\n",
       "</style>\n",
       "<table border=\"1\" class=\"dataframe\">\n",
       "  <thead>\n",
       "    <tr style=\"text-align: right;\">\n",
       "      <th></th>\n",
       "      <th>기준년도</th>\n",
       "      <th>가입자 일련번호</th>\n",
       "      <th>진료내역일련번호</th>\n",
       "      <th>성별코드</th>\n",
       "      <th>연령대코드</th>\n",
       "      <th>시도코드</th>\n",
       "      <th>요양개시일자</th>\n",
       "      <th>서식코드</th>\n",
       "      <th>진료과목코드</th>\n",
       "      <th>주상병코드</th>\n",
       "      <th>부상병코드</th>\n",
       "      <th>요양일수</th>\n",
       "      <th>입내원일수</th>\n",
       "      <th>심결가산율</th>\n",
       "      <th>심결요양급여비용총액</th>\n",
       "      <th>심결본인부담금</th>\n",
       "      <th>심결보험자부담금</th>\n",
       "      <th>총처방일수</th>\n",
       "      <th>데이터 기준일자</th>\n",
       "    </tr>\n",
       "  </thead>\n",
       "  <tbody>\n",
       "    <tr>\n",
       "      <th>0</th>\n",
       "      <td>2019</td>\n",
       "      <td>1</td>\n",
       "      <td>104243474</td>\n",
       "      <td>2</td>\n",
       "      <td>12</td>\n",
       "      <td>46</td>\n",
       "      <td>20191104</td>\n",
       "      <td>3</td>\n",
       "      <td>5</td>\n",
       "      <td>M751</td>\n",
       "      <td>M750</td>\n",
       "      <td>1</td>\n",
       "      <td>1</td>\n",
       "      <td>0.25</td>\n",
       "      <td>19240</td>\n",
       "      <td>9600</td>\n",
       "      <td>9640</td>\n",
       "      <td>0</td>\n",
       "      <td>20201222</td>\n",
       "    </tr>\n",
       "    <tr>\n",
       "      <th>1</th>\n",
       "      <td>2019</td>\n",
       "      <td>1</td>\n",
       "      <td>107479370</td>\n",
       "      <td>2</td>\n",
       "      <td>12</td>\n",
       "      <td>46</td>\n",
       "      <td>20190806</td>\n",
       "      <td>3</td>\n",
       "      <td>1</td>\n",
       "      <td>E1164</td>\n",
       "      <td>N308</td>\n",
       "      <td>1</td>\n",
       "      <td>1</td>\n",
       "      <td>0.25</td>\n",
       "      <td>145680</td>\n",
       "      <td>72800</td>\n",
       "      <td>72880</td>\n",
       "      <td>0</td>\n",
       "      <td>20201222</td>\n",
       "    </tr>\n",
       "    <tr>\n",
       "      <th>2</th>\n",
       "      <td>2019</td>\n",
       "      <td>1</td>\n",
       "      <td>106881883</td>\n",
       "      <td>2</td>\n",
       "      <td>12</td>\n",
       "      <td>46</td>\n",
       "      <td>20190920</td>\n",
       "      <td>3</td>\n",
       "      <td>1</td>\n",
       "      <td>N308</td>\n",
       "      <td>E1164</td>\n",
       "      <td>1</td>\n",
       "      <td>1</td>\n",
       "      <td>0.25</td>\n",
       "      <td>13240</td>\n",
       "      <td>6600</td>\n",
       "      <td>6640</td>\n",
       "      <td>3</td>\n",
       "      <td>20201222</td>\n",
       "    </tr>\n",
       "    <tr>\n",
       "      <th>3</th>\n",
       "      <td>2019</td>\n",
       "      <td>1</td>\n",
       "      <td>109043837</td>\n",
       "      <td>2</td>\n",
       "      <td>12</td>\n",
       "      <td>46</td>\n",
       "      <td>20190807</td>\n",
       "      <td>2</td>\n",
       "      <td>1</td>\n",
       "      <td>E1164</td>\n",
       "      <td>N308</td>\n",
       "      <td>7</td>\n",
       "      <td>21</td>\n",
       "      <td>0.25</td>\n",
       "      <td>861590</td>\n",
       "      <td>205810</td>\n",
       "      <td>655780</td>\n",
       "      <td>0</td>\n",
       "      <td>20201222</td>\n",
       "    </tr>\n",
       "    <tr>\n",
       "      <th>4</th>\n",
       "      <td>2019</td>\n",
       "      <td>1</td>\n",
       "      <td>103174392</td>\n",
       "      <td>2</td>\n",
       "      <td>12</td>\n",
       "      <td>46</td>\n",
       "      <td>20190318</td>\n",
       "      <td>3</td>\n",
       "      <td>13</td>\n",
       "      <td>H6531</td>\n",
       "      <td>J303</td>\n",
       "      <td>1</td>\n",
       "      <td>1</td>\n",
       "      <td>0.15</td>\n",
       "      <td>48440</td>\n",
       "      <td>14500</td>\n",
       "      <td>33940</td>\n",
       "      <td>3</td>\n",
       "      <td>20201222</td>\n",
       "    </tr>\n",
       "  </tbody>\n",
       "</table>\n",
       "</div>"
      ],
      "text/plain": [
       "   기준년도  가입자 일련번호   진료내역일련번호  성별코드  연령대코드  시도코드    요양개시일자  서식코드  진료과목코드  \\\n",
       "0  2019         1  104243474     2     12    46  20191104     3       5   \n",
       "1  2019         1  107479370     2     12    46  20190806     3       1   \n",
       "2  2019         1  106881883     2     12    46  20190920     3       1   \n",
       "3  2019         1  109043837     2     12    46  20190807     2       1   \n",
       "4  2019         1  103174392     2     12    46  20190318     3      13   \n",
       "\n",
       "   주상병코드  부상병코드  요양일수  입내원일수  심결가산율  심결요양급여비용총액  심결본인부담금  심결보험자부담금  총처방일수  \\\n",
       "0   M751   M750     1      1   0.25       19240     9600      9640      0   \n",
       "1  E1164   N308     1      1   0.25      145680    72800     72880      0   \n",
       "2   N308  E1164     1      1   0.25       13240     6600      6640      3   \n",
       "3  E1164   N308     7     21   0.25      861590   205810    655780      0   \n",
       "4  H6531   J303     1      1   0.15       48440    14500     33940      3   \n",
       "\n",
       "   데이터 기준일자  \n",
       "0  20201222  \n",
       "1  20201222  \n",
       "2  20201222  \n",
       "3  20201222  \n",
       "4  20201222  "
      ]
     },
     "execution_count": 4,
     "metadata": {},
     "output_type": "execute_result"
    }
   ],
   "source": [
    "df.head()"
   ]
  },
  {
   "cell_type": "code",
   "execution_count": 5,
   "metadata": {},
   "outputs": [
    {
     "name": "stdout",
     "output_type": "stream",
     "text": [
      "<class 'pandas.core.frame.DataFrame'>\n",
      "RangeIndex: 4624144 entries, 0 to 4624143\n",
      "Data columns (total 19 columns):\n",
      " #   Column      Dtype  \n",
      "---  ------      -----  \n",
      " 0   기준년도        int64  \n",
      " 1   가입자 일련번호    int64  \n",
      " 2   진료내역일련번호    int64  \n",
      " 3   성별코드        int64  \n",
      " 4   연령대코드       int64  \n",
      " 5   시도코드        int64  \n",
      " 6   요양개시일자      int64  \n",
      " 7   서식코드        int64  \n",
      " 8   진료과목코드      int64  \n",
      " 9   주상병코드       object \n",
      " 10  부상병코드       object \n",
      " 11  요양일수        int64  \n",
      " 12  입내원일수       int64  \n",
      " 13  심결가산율       float64\n",
      " 14  심결요양급여비용총액  int64  \n",
      " 15  심결본인부담금     int64  \n",
      " 16  심결보험자부담금    int64  \n",
      " 17  총처방일수       int64  \n",
      " 18  데이터 기준일자    int64  \n",
      "dtypes: float64(1), int64(16), object(2)\n",
      "memory usage: 670.3+ MB\n"
     ]
    }
   ],
   "source": [
    "df.info()"
   ]
  },
  {
   "cell_type": "code",
   "execution_count": 6,
   "metadata": {},
   "outputs": [
    {
     "data": {
      "text/plain": [
       "Index(['기준년도', '가입자 일련번호', '진료내역일련번호', '성별코드', '연령대코드', '시도코드', '요양개시일자',\n",
       "       '서식코드', '진료과목코드', '주상병코드', '부상병코드', '요양일수', '입내원일수', '심결가산율',\n",
       "       '심결요양급여비용총액', '심결본인부담금', '심결보험자부담금', '총처방일수', '데이터 기준일자'],\n",
       "      dtype='object')"
      ]
     },
     "execution_count": 6,
     "metadata": {},
     "output_type": "execute_result"
    }
   ],
   "source": [
    "df.columns"
   ]
  },
  {
   "cell_type": "code",
   "execution_count": 7,
   "metadata": {},
   "outputs": [
    {
     "data": {
      "text/plain": [
       "기준년도            int64\n",
       "가입자 일련번호        int64\n",
       "진료내역일련번호        int64\n",
       "성별코드            int64\n",
       "연령대코드           int64\n",
       "시도코드            int64\n",
       "요양개시일자          int64\n",
       "서식코드            int64\n",
       "진료과목코드          int64\n",
       "주상병코드          object\n",
       "부상병코드          object\n",
       "요양일수            int64\n",
       "입내원일수           int64\n",
       "심결가산율         float64\n",
       "심결요양급여비용총액      int64\n",
       "심결본인부담금         int64\n",
       "심결보험자부담금        int64\n",
       "총처방일수           int64\n",
       "데이터 기준일자        int64\n",
       "dtype: object"
      ]
     },
     "execution_count": 7,
     "metadata": {},
     "output_type": "execute_result"
    }
   ],
   "source": [
    "df.dtypes"
   ]
  },
  {
   "cell_type": "code",
   "execution_count": 8,
   "metadata": {},
   "outputs": [
    {
     "data": {
      "text/plain": [
       "기준년도          0\n",
       "가입자 일련번호      0\n",
       "진료내역일련번호      0\n",
       "성별코드          0\n",
       "연령대코드         0\n",
       "시도코드          0\n",
       "요양개시일자        0\n",
       "서식코드          0\n",
       "진료과목코드        0\n",
       "주상병코드         0\n",
       "부상병코드         0\n",
       "요양일수          0\n",
       "입내원일수         0\n",
       "심결가산율         0\n",
       "심결요양급여비용총액    0\n",
       "심결본인부담금       0\n",
       "심결보험자부담금      0\n",
       "총처방일수         0\n",
       "데이터 기준일자      0\n",
       "dtype: int64"
      ]
     },
     "execution_count": 8,
     "metadata": {},
     "output_type": "execute_result"
    }
   ],
   "source": [
    "df.isnull().sum()"
   ]
  },
  {
   "cell_type": "code",
   "execution_count": 9,
   "metadata": {},
   "outputs": [
    {
     "data": {
      "text/html": [
       "<div>\n",
       "<style scoped>\n",
       "    .dataframe tbody tr th:only-of-type {\n",
       "        vertical-align: middle;\n",
       "    }\n",
       "\n",
       "    .dataframe tbody tr th {\n",
       "        vertical-align: top;\n",
       "    }\n",
       "\n",
       "    .dataframe thead th {\n",
       "        text-align: right;\n",
       "    }\n",
       "</style>\n",
       "<table border=\"1\" class=\"dataframe\">\n",
       "  <thead>\n",
       "    <tr style=\"text-align: right;\">\n",
       "      <th></th>\n",
       "      <th>요양일수</th>\n",
       "      <th>입내원일수</th>\n",
       "    </tr>\n",
       "  </thead>\n",
       "  <tbody>\n",
       "    <tr>\n",
       "      <th>0</th>\n",
       "      <td>1</td>\n",
       "      <td>1</td>\n",
       "    </tr>\n",
       "    <tr>\n",
       "      <th>1</th>\n",
       "      <td>1</td>\n",
       "      <td>1</td>\n",
       "    </tr>\n",
       "    <tr>\n",
       "      <th>2</th>\n",
       "      <td>1</td>\n",
       "      <td>1</td>\n",
       "    </tr>\n",
       "    <tr>\n",
       "      <th>3</th>\n",
       "      <td>7</td>\n",
       "      <td>21</td>\n",
       "    </tr>\n",
       "    <tr>\n",
       "      <th>4</th>\n",
       "      <td>1</td>\n",
       "      <td>1</td>\n",
       "    </tr>\n",
       "  </tbody>\n",
       "</table>\n",
       "</div>"
      ],
      "text/plain": [
       "   요양일수  입내원일수\n",
       "0     1      1\n",
       "1     1      1\n",
       "2     1      1\n",
       "3     7     21\n",
       "4     1      1"
      ]
     },
     "execution_count": 9,
     "metadata": {},
     "output_type": "execute_result"
    }
   ],
   "source": [
    "df[[\"요양일수\", \"입내원일수\"]].head()"
   ]
  },
  {
   "cell_type": "code",
   "execution_count": 10,
   "metadata": {},
   "outputs": [
    {
     "data": {
      "text/html": [
       "<div>\n",
       "<style scoped>\n",
       "    .dataframe tbody tr th:only-of-type {\n",
       "        vertical-align: middle;\n",
       "    }\n",
       "\n",
       "    .dataframe tbody tr th {\n",
       "        vertical-align: top;\n",
       "    }\n",
       "\n",
       "    .dataframe thead th {\n",
       "        text-align: right;\n",
       "    }\n",
       "</style>\n",
       "<table border=\"1\" class=\"dataframe\">\n",
       "  <thead>\n",
       "    <tr style=\"text-align: right;\">\n",
       "      <th></th>\n",
       "      <th>요양일수</th>\n",
       "      <th>입내원일수</th>\n",
       "    </tr>\n",
       "  </thead>\n",
       "  <tbody>\n",
       "    <tr>\n",
       "      <th>count</th>\n",
       "      <td>4.624144e+06</td>\n",
       "      <td>4.624144e+06</td>\n",
       "    </tr>\n",
       "    <tr>\n",
       "      <th>mean</th>\n",
       "      <td>1.200685e+00</td>\n",
       "      <td>1.873727e+00</td>\n",
       "    </tr>\n",
       "    <tr>\n",
       "      <th>std</th>\n",
       "      <td>2.128052e+00</td>\n",
       "      <td>5.559391e+00</td>\n",
       "    </tr>\n",
       "    <tr>\n",
       "      <th>min</th>\n",
       "      <td>0.000000e+00</td>\n",
       "      <td>0.000000e+00</td>\n",
       "    </tr>\n",
       "    <tr>\n",
       "      <th>25%</th>\n",
       "      <td>1.000000e+00</td>\n",
       "      <td>1.000000e+00</td>\n",
       "    </tr>\n",
       "    <tr>\n",
       "      <th>50%</th>\n",
       "      <td>1.000000e+00</td>\n",
       "      <td>1.000000e+00</td>\n",
       "    </tr>\n",
       "    <tr>\n",
       "      <th>75%</th>\n",
       "      <td>1.000000e+00</td>\n",
       "      <td>1.000000e+00</td>\n",
       "    </tr>\n",
       "    <tr>\n",
       "      <th>max</th>\n",
       "      <td>1.960000e+02</td>\n",
       "      <td>6.900000e+02</td>\n",
       "    </tr>\n",
       "  </tbody>\n",
       "</table>\n",
       "</div>"
      ],
      "text/plain": [
       "               요양일수         입내원일수\n",
       "count  4.624144e+06  4.624144e+06\n",
       "mean   1.200685e+00  1.873727e+00\n",
       "std    2.128052e+00  5.559391e+00\n",
       "min    0.000000e+00  0.000000e+00\n",
       "25%    1.000000e+00  1.000000e+00\n",
       "50%    1.000000e+00  1.000000e+00\n",
       "75%    1.000000e+00  1.000000e+00\n",
       "max    1.960000e+02  6.900000e+02"
      ]
     },
     "execution_count": 10,
     "metadata": {},
     "output_type": "execute_result"
    }
   ],
   "source": [
    "df[[\"요양일수\", \"입내원일수\"]].describe()"
   ]
  },
  {
   "cell_type": "code",
   "execution_count": 11,
   "metadata": {},
   "outputs": [
    {
     "data": {
      "text/plain": [
       "2    2606133\n",
       "1    2018011\n",
       "Name: 성별코드, dtype: int64"
      ]
     },
     "execution_count": 11,
     "metadata": {},
     "output_type": "execute_result"
    }
   ],
   "source": [
    "df[\"성별코드\"].value_counts()"
   ]
  },
  {
   "cell_type": "code",
   "execution_count": 12,
   "metadata": {},
   "outputs": [
    {
     "data": {
      "text/plain": [
       "<matplotlib.axes._subplots.AxesSubplot at 0x214676a65c8>"
      ]
     },
     "execution_count": 12,
     "metadata": {},
     "output_type": "execute_result"
    },
    {
     "data": {
      "image/png": "[encoded data removed]",
      "text/plain": [
       "<Figure size 432x288 with 1 Axes>"
      ]
     },
     "metadata": {
      "needs_background": "light"
     },
     "output_type": "display_data"
    }
   ],
   "source": [
    "df[\"성별코드\"].value_counts().plot.bar()"
   ]
  },
  {
   "cell_type": "code",
   "execution_count": 13,
   "metadata": {},
   "outputs": [
    {
     "data": {
      "text/plain": [
       "5    754344\n",
       "Name: 진료과목코드, dtype: int64"
      ]
     },
     "execution_count": 13,
     "metadata": {},
     "output_type": "execute_result"
    }
   ],
   "source": [
    "orthopedics_type = df[\"진료과목코드\"] == 5  # 정형외과 진료\n",
    "df.loc[orthopedics_type, \"진료과목코드\"].value_counts()"
   ]
  },
  {
   "cell_type": "code",
   "execution_count": 14,
   "metadata": {},
   "outputs": [
    {
     "data": {
      "text/html": [
       "<div>\n",
       "<style scoped>\n",
       "    .dataframe tbody tr th:only-of-type {\n",
       "        vertical-align: middle;\n",
       "    }\n",
       "\n",
       "    .dataframe tbody tr th {\n",
       "        vertical-align: top;\n",
       "    }\n",
       "\n",
       "    .dataframe thead th {\n",
       "        text-align: right;\n",
       "    }\n",
       "</style>\n",
       "<table border=\"1\" class=\"dataframe\">\n",
       "  <thead>\n",
       "    <tr style=\"text-align: right;\">\n",
       "      <th></th>\n",
       "      <th>기준년도</th>\n",
       "      <th>가입자 일련번호</th>\n",
       "      <th>진료내역일련번호</th>\n",
       "      <th>연령대코드</th>\n",
       "      <th>시도코드</th>\n",
       "      <th>요양개시일자</th>\n",
       "      <th>서식코드</th>\n",
       "      <th>진료과목코드</th>\n",
       "      <th>주상병코드</th>\n",
       "      <th>부상병코드</th>\n",
       "      <th>요양일수</th>\n",
       "      <th>입내원일수</th>\n",
       "      <th>심결가산율</th>\n",
       "      <th>심결요양급여비용총액</th>\n",
       "      <th>심결본인부담금</th>\n",
       "      <th>심결보험자부담금</th>\n",
       "      <th>총처방일수</th>\n",
       "      <th>데이터 기준일자</th>\n",
       "    </tr>\n",
       "    <tr>\n",
       "      <th>성별코드</th>\n",
       "      <th></th>\n",
       "      <th></th>\n",
       "      <th></th>\n",
       "      <th></th>\n",
       "      <th></th>\n",
       "      <th></th>\n",
       "      <th></th>\n",
       "      <th></th>\n",
       "      <th></th>\n",
       "      <th></th>\n",
       "      <th></th>\n",
       "      <th></th>\n",
       "      <th></th>\n",
       "      <th></th>\n",
       "      <th></th>\n",
       "      <th></th>\n",
       "      <th></th>\n",
       "      <th></th>\n",
       "    </tr>\n",
       "  </thead>\n",
       "  <tbody>\n",
       "    <tr>\n",
       "      <th>1</th>\n",
       "      <td>2018011</td>\n",
       "      <td>2018011</td>\n",
       "      <td>2018011</td>\n",
       "      <td>2018011</td>\n",
       "      <td>2018011</td>\n",
       "      <td>2018011</td>\n",
       "      <td>2018011</td>\n",
       "      <td>2018011</td>\n",
       "      <td>2018011</td>\n",
       "      <td>2018011</td>\n",
       "      <td>2018011</td>\n",
       "      <td>2018011</td>\n",
       "      <td>2018011</td>\n",
       "      <td>2018011</td>\n",
       "      <td>2018011</td>\n",
       "      <td>2018011</td>\n",
       "      <td>2018011</td>\n",
       "      <td>2018011</td>\n",
       "    </tr>\n",
       "    <tr>\n",
       "      <th>2</th>\n",
       "      <td>2606133</td>\n",
       "      <td>2606133</td>\n",
       "      <td>2606133</td>\n",
       "      <td>2606133</td>\n",
       "      <td>2606133</td>\n",
       "      <td>2606133</td>\n",
       "      <td>2606133</td>\n",
       "      <td>2606133</td>\n",
       "      <td>2606133</td>\n",
       "      <td>2606133</td>\n",
       "      <td>2606133</td>\n",
       "      <td>2606133</td>\n",
       "      <td>2606133</td>\n",
       "      <td>2606133</td>\n",
       "      <td>2606133</td>\n",
       "      <td>2606133</td>\n",
       "      <td>2606133</td>\n",
       "      <td>2606133</td>\n",
       "    </tr>\n",
       "  </tbody>\n",
       "</table>\n",
       "</div>"
      ],
      "text/plain": [
       "         기준년도  가입자 일련번호  진료내역일련번호    연령대코드     시도코드   요양개시일자     서식코드  \\\n",
       "성별코드                                                                    \n",
       "1     2018011   2018011   2018011  2018011  2018011  2018011  2018011   \n",
       "2     2606133   2606133   2606133  2606133  2606133  2606133  2606133   \n",
       "\n",
       "       진료과목코드    주상병코드    부상병코드     요양일수    입내원일수    심결가산율  심결요양급여비용총액  \\\n",
       "성별코드                                                                     \n",
       "1     2018011  2018011  2018011  2018011  2018011  2018011     2018011   \n",
       "2     2606133  2606133  2606133  2606133  2606133  2606133     2606133   \n",
       "\n",
       "      심결본인부담금  심결보험자부담금    총처방일수  데이터 기준일자  \n",
       "성별코드                                        \n",
       "1     2018011   2018011  2018011   2018011  \n",
       "2     2606133   2606133  2606133   2606133  "
      ]
     },
     "execution_count": 14,
     "metadata": {},
     "output_type": "execute_result"
    }
   ],
   "source": [
    "df.groupby([\"성별코드\"]).count()"
   ]
  },
  {
   "cell_type": "code",
   "execution_count": 15,
   "metadata": {},
   "outputs": [
    {
     "data": {
      "text/plain": [
       "성별코드  진료과목코드\n",
       "1     False     1710727\n",
       "      True       307284\n",
       "2     False     2159073\n",
       "      True       447060\n",
       "Name: 가입자 일련번호, dtype: int64"
      ]
     },
     "execution_count": 15,
     "metadata": {},
     "output_type": "execute_result"
    }
   ],
   "source": [
    "df.groupby([\"성별코드\", orthopedics_type])[\"가입자 일련번호\"].count()"
   ]
  },
  {
   "cell_type": "code",
   "execution_count": 16,
   "metadata": {},
   "outputs": [
    {
     "data": {
      "image/png": "[encoded data removed]",
      "text/plain": [
       "<Figure size 864x864 with 20 Axes>"
      ]
     },
     "metadata": {
      "needs_background": "light"
     },
     "output_type": "display_data"
    }
   ],
   "source": [
    "h = df.hist(figsize=(12, 12))"
   ]
  },
  {
   "cell_type": "code",
   "execution_count": 17,
   "metadata": {},
   "outputs": [
    {
     "data": {
      "image/png": "[encoded data removed]",
      "text/plain": [
       "<Figure size 864x864 with 6 Axes>"
      ]
     },
     "metadata": {
      "needs_background": "light"
     },
     "output_type": "display_data"
    }
   ],
   "source": [
    "h = df.iloc[:, :6].hist(figsize=(12, 12))"
   ]
  },
  {
   "cell_type": "code",
   "execution_count": 18,
   "metadata": {},
   "outputs": [
    {
     "data": {
      "text/plain": [
       "<matplotlib.axes._subplots.AxesSubplot at 0x21469905c08>"
      ]
     },
     "execution_count": 18,
     "metadata": {},
     "output_type": "execute_result"
    },
    {
     "data": {
      "image/png": "[encoded data removed]",
      "text/plain": [
       "<Figure size 432x288 with 1 Axes>"
      ]
     },
     "metadata": {
      "needs_background": "light"
     },
     "output_type": "display_data"
    }
   ],
   "source": [
    "df.groupby([\"성별코드\", orthopedics_type])[\"가입자 일련번호\"].count().plot.bar()"
   ]
  },
  {
   "cell_type": "code",
   "execution_count": 19,
   "metadata": {},
   "outputs": [
    {
     "data": {
      "text/html": [
       "<div>\n",
       "<style scoped>\n",
       "    .dataframe tbody tr th:only-of-type {\n",
       "        vertical-align: middle;\n",
       "    }\n",
       "\n",
       "    .dataframe tbody tr th {\n",
       "        vertical-align: top;\n",
       "    }\n",
       "\n",
       "    .dataframe thead th {\n",
       "        text-align: right;\n",
       "    }\n",
       "</style>\n",
       "<table border=\"1\" class=\"dataframe\">\n",
       "  <thead>\n",
       "    <tr style=\"text-align: right;\">\n",
       "      <th></th>\n",
       "      <th>기준년도</th>\n",
       "      <th>가입자 일련번호</th>\n",
       "      <th>진료내역일련번호</th>\n",
       "      <th>성별코드</th>\n",
       "      <th>연령대코드</th>\n",
       "      <th>시도코드</th>\n",
       "      <th>요양개시일자</th>\n",
       "      <th>서식코드</th>\n",
       "      <th>진료과목코드</th>\n",
       "      <th>주상병코드</th>\n",
       "      <th>부상병코드</th>\n",
       "      <th>요양일수</th>\n",
       "      <th>입내원일수</th>\n",
       "      <th>심결가산율</th>\n",
       "      <th>심결요양급여비용총액</th>\n",
       "      <th>심결본인부담금</th>\n",
       "      <th>심결보험자부담금</th>\n",
       "      <th>총처방일수</th>\n",
       "      <th>데이터 기준일자</th>\n",
       "    </tr>\n",
       "  </thead>\n",
       "  <tbody>\n",
       "    <tr>\n",
       "      <th>0</th>\n",
       "      <td>2019</td>\n",
       "      <td>1</td>\n",
       "      <td>104243474</td>\n",
       "      <td>2</td>\n",
       "      <td>12</td>\n",
       "      <td>46</td>\n",
       "      <td>20191104</td>\n",
       "      <td>3</td>\n",
       "      <td>5</td>\n",
       "      <td>M751</td>\n",
       "      <td>M750</td>\n",
       "      <td>1</td>\n",
       "      <td>1</td>\n",
       "      <td>0.25</td>\n",
       "      <td>19240</td>\n",
       "      <td>9600</td>\n",
       "      <td>9640</td>\n",
       "      <td>0</td>\n",
       "      <td>20201222</td>\n",
       "    </tr>\n",
       "    <tr>\n",
       "      <th>5</th>\n",
       "      <td>2019</td>\n",
       "      <td>1</td>\n",
       "      <td>104243492</td>\n",
       "      <td>2</td>\n",
       "      <td>12</td>\n",
       "      <td>46</td>\n",
       "      <td>20191106</td>\n",
       "      <td>3</td>\n",
       "      <td>5</td>\n",
       "      <td>M751</td>\n",
       "      <td>M750</td>\n",
       "      <td>1</td>\n",
       "      <td>1</td>\n",
       "      <td>0.25</td>\n",
       "      <td>27890</td>\n",
       "      <td>13900</td>\n",
       "      <td>13990</td>\n",
       "      <td>7</td>\n",
       "      <td>20201222</td>\n",
       "    </tr>\n",
       "    <tr>\n",
       "      <th>6</th>\n",
       "      <td>2019</td>\n",
       "      <td>1</td>\n",
       "      <td>104243480</td>\n",
       "      <td>2</td>\n",
       "      <td>12</td>\n",
       "      <td>46</td>\n",
       "      <td>20191114</td>\n",
       "      <td>3</td>\n",
       "      <td>5</td>\n",
       "      <td>M751</td>\n",
       "      <td>M750</td>\n",
       "      <td>1</td>\n",
       "      <td>1</td>\n",
       "      <td>0.25</td>\n",
       "      <td>12330</td>\n",
       "      <td>6100</td>\n",
       "      <td>6230</td>\n",
       "      <td>0</td>\n",
       "      <td>20201222</td>\n",
       "    </tr>\n",
       "    <tr>\n",
       "      <th>7</th>\n",
       "      <td>2019</td>\n",
       "      <td>1</td>\n",
       "      <td>104243484</td>\n",
       "      <td>2</td>\n",
       "      <td>12</td>\n",
       "      <td>46</td>\n",
       "      <td>20191107</td>\n",
       "      <td>3</td>\n",
       "      <td>5</td>\n",
       "      <td>M751</td>\n",
       "      <td>M750</td>\n",
       "      <td>1</td>\n",
       "      <td>1</td>\n",
       "      <td>0.25</td>\n",
       "      <td>12330</td>\n",
       "      <td>6100</td>\n",
       "      <td>6230</td>\n",
       "      <td>0</td>\n",
       "      <td>20201222</td>\n",
       "    </tr>\n",
       "    <tr>\n",
       "      <th>8</th>\n",
       "      <td>2019</td>\n",
       "      <td>1</td>\n",
       "      <td>103488853</td>\n",
       "      <td>2</td>\n",
       "      <td>12</td>\n",
       "      <td>46</td>\n",
       "      <td>20191227</td>\n",
       "      <td>3</td>\n",
       "      <td>5</td>\n",
       "      <td>M751</td>\n",
       "      <td>M750</td>\n",
       "      <td>1</td>\n",
       "      <td>1</td>\n",
       "      <td>0.25</td>\n",
       "      <td>21890</td>\n",
       "      <td>10900</td>\n",
       "      <td>10990</td>\n",
       "      <td>0</td>\n",
       "      <td>20201222</td>\n",
       "    </tr>\n",
       "    <tr>\n",
       "      <th>...</th>\n",
       "      <td>...</td>\n",
       "      <td>...</td>\n",
       "      <td>...</td>\n",
       "      <td>...</td>\n",
       "      <td>...</td>\n",
       "      <td>...</td>\n",
       "      <td>...</td>\n",
       "      <td>...</td>\n",
       "      <td>...</td>\n",
       "      <td>...</td>\n",
       "      <td>...</td>\n",
       "      <td>...</td>\n",
       "      <td>...</td>\n",
       "      <td>...</td>\n",
       "      <td>...</td>\n",
       "      <td>...</td>\n",
       "      <td>...</td>\n",
       "      <td>...</td>\n",
       "      <td>...</td>\n",
       "    </tr>\n",
       "    <tr>\n",
       "      <th>4624127</th>\n",
       "      <td>2019</td>\n",
       "      <td>349998</td>\n",
       "      <td>109899758</td>\n",
       "      <td>2</td>\n",
       "      <td>11</td>\n",
       "      <td>11</td>\n",
       "      <td>20190722</td>\n",
       "      <td>3</td>\n",
       "      <td>5</td>\n",
       "      <td>S134</td>\n",
       "      <td>M501</td>\n",
       "      <td>1</td>\n",
       "      <td>1</td>\n",
       "      <td>0.15</td>\n",
       "      <td>9770</td>\n",
       "      <td>2900</td>\n",
       "      <td>6870</td>\n",
       "      <td>0</td>\n",
       "      <td>20201222</td>\n",
       "    </tr>\n",
       "    <tr>\n",
       "      <th>4624128</th>\n",
       "      <td>2019</td>\n",
       "      <td>349998</td>\n",
       "      <td>109899760</td>\n",
       "      <td>2</td>\n",
       "      <td>11</td>\n",
       "      <td>11</td>\n",
       "      <td>20190710</td>\n",
       "      <td>3</td>\n",
       "      <td>5</td>\n",
       "      <td>S134</td>\n",
       "      <td>M501</td>\n",
       "      <td>1</td>\n",
       "      <td>1</td>\n",
       "      <td>0.15</td>\n",
       "      <td>9770</td>\n",
       "      <td>2900</td>\n",
       "      <td>6870</td>\n",
       "      <td>0</td>\n",
       "      <td>20201222</td>\n",
       "    </tr>\n",
       "    <tr>\n",
       "      <th>4624132</th>\n",
       "      <td>2019</td>\n",
       "      <td>349998</td>\n",
       "      <td>109899757</td>\n",
       "      <td>2</td>\n",
       "      <td>11</td>\n",
       "      <td>11</td>\n",
       "      <td>20190716</td>\n",
       "      <td>3</td>\n",
       "      <td>5</td>\n",
       "      <td>S134</td>\n",
       "      <td>M501</td>\n",
       "      <td>1</td>\n",
       "      <td>1</td>\n",
       "      <td>0.15</td>\n",
       "      <td>9770</td>\n",
       "      <td>2900</td>\n",
       "      <td>6870</td>\n",
       "      <td>0</td>\n",
       "      <td>20201222</td>\n",
       "    </tr>\n",
       "    <tr>\n",
       "      <th>4624135</th>\n",
       "      <td>2019</td>\n",
       "      <td>349999</td>\n",
       "      <td>100946991</td>\n",
       "      <td>2</td>\n",
       "      <td>9</td>\n",
       "      <td>41</td>\n",
       "      <td>20190329</td>\n",
       "      <td>3</td>\n",
       "      <td>5</td>\n",
       "      <td>S434</td>\n",
       "      <td>S637</td>\n",
       "      <td>1</td>\n",
       "      <td>1</td>\n",
       "      <td>0.20</td>\n",
       "      <td>54230</td>\n",
       "      <td>21600</td>\n",
       "      <td>32630</td>\n",
       "      <td>5</td>\n",
       "      <td>20201222</td>\n",
       "    </tr>\n",
       "    <tr>\n",
       "      <th>4624141</th>\n",
       "      <td>2019</td>\n",
       "      <td>350000</td>\n",
       "      <td>110524567</td>\n",
       "      <td>1</td>\n",
       "      <td>5</td>\n",
       "      <td>41</td>\n",
       "      <td>20190509</td>\n",
       "      <td>3</td>\n",
       "      <td>5</td>\n",
       "      <td>M1996</td>\n",
       "      <td>K291</td>\n",
       "      <td>1</td>\n",
       "      <td>1</td>\n",
       "      <td>0.15</td>\n",
       "      <td>25260</td>\n",
       "      <td>7500</td>\n",
       "      <td>17760</td>\n",
       "      <td>0</td>\n",
       "      <td>20201222</td>\n",
       "    </tr>\n",
       "  </tbody>\n",
       "</table>\n",
       "<p>754344 rows × 19 columns</p>\n",
       "</div>"
      ],
      "text/plain": [
       "         기준년도  가입자 일련번호   진료내역일련번호  성별코드  연령대코드  시도코드    요양개시일자  서식코드  진료과목코드  \\\n",
       "0        2019         1  104243474     2     12    46  20191104     3       5   \n",
       "5        2019         1  104243492     2     12    46  20191106     3       5   \n",
       "6        2019         1  104243480     2     12    46  20191114     3       5   \n",
       "7        2019         1  104243484     2     12    46  20191107     3       5   \n",
       "8        2019         1  103488853     2     12    46  20191227     3       5   \n",
       "...       ...       ...        ...   ...    ...   ...       ...   ...     ...   \n",
       "4624127  2019    349998  109899758     2     11    11  20190722     3       5   \n",
       "4624128  2019    349998  109899760     2     11    11  20190710     3       5   \n",
       "4624132  2019    349998  109899757     2     11    11  20190716     3       5   \n",
       "4624135  2019    349999  100946991     2      9    41  20190329     3       5   \n",
       "4624141  2019    350000  110524567     1      5    41  20190509     3       5   \n",
       "\n",
       "         주상병코드 부상병코드  요양일수  입내원일수  심결가산율  심결요양급여비용총액  심결본인부담금  심결보험자부담금  \\\n",
       "0         M751  M750     1      1   0.25       19240     9600      9640   \n",
       "5         M751  M750     1      1   0.25       27890    13900     13990   \n",
       "6         M751  M750     1      1   0.25       12330     6100      6230   \n",
       "7         M751  M750     1      1   0.25       12330     6100      6230   \n",
       "8         M751  M750     1      1   0.25       21890    10900     10990   \n",
       "...        ...   ...   ...    ...    ...         ...      ...       ...   \n",
       "4624127   S134  M501     1      1   0.15        9770     2900      6870   \n",
       "4624128   S134  M501     1      1   0.15        9770     2900      6870   \n",
       "4624132   S134  M501     1      1   0.15        9770     2900      6870   \n",
       "4624135   S434  S637     1      1   0.20       54230    21600     32630   \n",
       "4624141  M1996  K291     1      1   0.15       25260     7500     17760   \n",
       "\n",
       "         총처방일수  데이터 기준일자  \n",
       "0            0  20201222  \n",
       "5            7  20201222  \n",
       "6            0  20201222  \n",
       "7            0  20201222  \n",
       "8            0  20201222  \n",
       "...        ...       ...  \n",
       "4624127      0  20201222  \n",
       "4624128      0  20201222  \n",
       "4624132      0  20201222  \n",
       "4624135      5  20201222  \n",
       "4624141      0  20201222  \n",
       "\n",
       "[754344 rows x 19 columns]"
      ]
     },
     "execution_count": 19,
     "metadata": {},
     "output_type": "execute_result"
    }
   ],
   "source": [
    "orthopedics = df[df[\"진료과목코드\"] == 5]\n",
    "orthopedics"
   ]
  },
  {
   "cell_type": "code",
   "execution_count": 20,
   "metadata": {},
   "outputs": [
    {
     "data": {
      "text/plain": [
       "<matplotlib.axes._subplots.AxesSubplot at 0x21469cc7488>"
      ]
     },
     "execution_count": 20,
     "metadata": {},
     "output_type": "execute_result"
    },
    {
     "data": {
      "image/png": "[encoded data removed]",
      "text/plain": [
       "<Figure size 432x288 with 1 Axes>"
      ]
     },
     "metadata": {
      "needs_background": "light"
     },
     "output_type": "display_data"
    }
   ],
   "source": [
    "sns.countplot(data=orthopedics, x=\"진료과목코드\", hue=\"성별코드\")"
   ]
  },
  {
   "cell_type": "code",
   "execution_count": 21,
   "metadata": {},
   "outputs": [
    {
     "data": {
      "text/plain": [
       "<matplotlib.axes._subplots.AxesSubplot at 0x21469d3a448>"
      ]
     },
     "execution_count": 21,
     "metadata": {},
     "output_type": "execute_result"
    },
    {
     "data": {
      "image/png": "[encoded data removed]",
      "text/plain": [
       "<Figure size 432x288 with 1 Axes>"
      ]
     },
     "metadata": {
      "needs_background": "light"
     },
     "output_type": "display_data"
    }
   ],
   "source": [
    "sns.countplot(data=orthopedics, x=\"연령대코드\")"
   ]
  },
  {
   "cell_type": "code",
   "execution_count": 22,
   "metadata": {
    "scrolled": false
   },
   "outputs": [
    {
     "data": {
      "text/plain": [
       "<matplotlib.axes._subplots.AxesSubplot at 0x21469da3888>"
      ]
     },
     "execution_count": 22,
     "metadata": {},
     "output_type": "execute_result"
    },
    {
     "data": {
      "image/png": "[encoded data removed]",
      "text/plain": [
       "<Figure size 936x936 with 1 Axes>"
      ]
     },
     "metadata": {
      "needs_background": "light"
     },
     "output_type": "display_data"
    }
   ],
   "source": [
    "plt.figure(figsize=(13, 13))\n",
    "sns.countplot(data=df, x=\"연령대코드\", hue=\"진료과목코드\")"
   ]
  },
  {
   "cell_type": "code",
   "execution_count": 23,
   "metadata": {},
   "outputs": [
    {
     "data": {
      "text/plain": [
       "<matplotlib.axes._subplots.AxesSubplot at 0x214684ea548>"
      ]
     },
     "execution_count": 23,
     "metadata": {},
     "output_type": "execute_result"
    },
    {
     "data": {
      "image/png": "[encoded data removed]",
      "text/plain": [
       "<Figure size 432x288 with 1 Axes>"
      ]
     },
     "metadata": {
      "needs_background": "light"
     },
     "output_type": "display_data"
    }
   ],
   "source": [
    "sns.countplot(data=df, x=\"연령대코드\")"
   ]
  },
  {
   "cell_type": "code",
   "execution_count": 24,
   "metadata": {},
   "outputs": [
    {
     "data": {
      "text/html": [
       "<div>\n",
       "<style scoped>\n",
       "    .dataframe tbody tr th:only-of-type {\n",
       "        vertical-align: middle;\n",
       "    }\n",
       "\n",
       "    .dataframe tbody tr th {\n",
       "        vertical-align: top;\n",
       "    }\n",
       "\n",
       "    .dataframe thead th {\n",
       "        text-align: right;\n",
       "    }\n",
       "</style>\n",
       "<table border=\"1\" class=\"dataframe\">\n",
       "  <thead>\n",
       "    <tr style=\"text-align: right;\">\n",
       "      <th></th>\n",
       "      <th>기준년도</th>\n",
       "      <th>가입자 일련번호</th>\n",
       "      <th>진료내역일련번호</th>\n",
       "      <th>성별코드</th>\n",
       "      <th>연령대코드</th>\n",
       "      <th>시도코드</th>\n",
       "      <th>요양개시일자</th>\n",
       "      <th>서식코드</th>\n",
       "      <th>진료과목코드</th>\n",
       "      <th>주상병코드</th>\n",
       "      <th>부상병코드</th>\n",
       "      <th>요양일수</th>\n",
       "      <th>입내원일수</th>\n",
       "      <th>심결가산율</th>\n",
       "      <th>심결요양급여비용총액</th>\n",
       "      <th>심결본인부담금</th>\n",
       "      <th>심결보험자부담금</th>\n",
       "      <th>총처방일수</th>\n",
       "      <th>데이터 기준일자</th>\n",
       "    </tr>\n",
       "  </thead>\n",
       "  <tbody>\n",
       "    <tr>\n",
       "      <th>253</th>\n",
       "      <td>2019</td>\n",
       "      <td>20</td>\n",
       "      <td>112704847</td>\n",
       "      <td>2</td>\n",
       "      <td>1</td>\n",
       "      <td>27</td>\n",
       "      <td>20190416</td>\n",
       "      <td>3</td>\n",
       "      <td>5</td>\n",
       "      <td>S42440</td>\n",
       "      <td>S42450</td>\n",
       "      <td>1</td>\n",
       "      <td>1</td>\n",
       "      <td>0.15</td>\n",
       "      <td>26000</td>\n",
       "      <td>5400</td>\n",
       "      <td>20600</td>\n",
       "      <td>0</td>\n",
       "      <td>20201222</td>\n",
       "    </tr>\n",
       "    <tr>\n",
       "      <th>254</th>\n",
       "      <td>2019</td>\n",
       "      <td>20</td>\n",
       "      <td>108365268</td>\n",
       "      <td>2</td>\n",
       "      <td>1</td>\n",
       "      <td>27</td>\n",
       "      <td>20190824</td>\n",
       "      <td>3</td>\n",
       "      <td>1</td>\n",
       "      <td>K121</td>\n",
       "      <td>B009</td>\n",
       "      <td>1</td>\n",
       "      <td>1</td>\n",
       "      <td>0.15</td>\n",
       "      <td>14240</td>\n",
       "      <td>2900</td>\n",
       "      <td>11340</td>\n",
       "      <td>2</td>\n",
       "      <td>20201222</td>\n",
       "    </tr>\n",
       "    <tr>\n",
       "      <th>255</th>\n",
       "      <td>2019</td>\n",
       "      <td>20</td>\n",
       "      <td>112534544</td>\n",
       "      <td>2</td>\n",
       "      <td>1</td>\n",
       "      <td>27</td>\n",
       "      <td>20190430</td>\n",
       "      <td>3</td>\n",
       "      <td>13</td>\n",
       "      <td>J209</td>\n",
       "      <td>J303</td>\n",
       "      <td>1</td>\n",
       "      <td>1</td>\n",
       "      <td>0.15</td>\n",
       "      <td>16500</td>\n",
       "      <td>3400</td>\n",
       "      <td>13100</td>\n",
       "      <td>3</td>\n",
       "      <td>20201222</td>\n",
       "    </tr>\n",
       "    <tr>\n",
       "      <th>256</th>\n",
       "      <td>2019</td>\n",
       "      <td>20</td>\n",
       "      <td>102561116</td>\n",
       "      <td>2</td>\n",
       "      <td>1</td>\n",
       "      <td>27</td>\n",
       "      <td>20190106</td>\n",
       "      <td>3</td>\n",
       "      <td>11</td>\n",
       "      <td>J0390</td>\n",
       "      <td>J209</td>\n",
       "      <td>1</td>\n",
       "      <td>1</td>\n",
       "      <td>0.20</td>\n",
       "      <td>19950</td>\n",
       "      <td>5500</td>\n",
       "      <td>14450</td>\n",
       "      <td>3</td>\n",
       "      <td>20201222</td>\n",
       "    </tr>\n",
       "    <tr>\n",
       "      <th>257</th>\n",
       "      <td>2019</td>\n",
       "      <td>20</td>\n",
       "      <td>111541127</td>\n",
       "      <td>2</td>\n",
       "      <td>1</td>\n",
       "      <td>27</td>\n",
       "      <td>20190628</td>\n",
       "      <td>3</td>\n",
       "      <td>1</td>\n",
       "      <td>T784</td>\n",
       "      <td>L282</td>\n",
       "      <td>1</td>\n",
       "      <td>1</td>\n",
       "      <td>0.15</td>\n",
       "      <td>16600</td>\n",
       "      <td>3400</td>\n",
       "      <td>13200</td>\n",
       "      <td>1</td>\n",
       "      <td>20201222</td>\n",
       "    </tr>\n",
       "    <tr>\n",
       "      <th>...</th>\n",
       "      <td>...</td>\n",
       "      <td>...</td>\n",
       "      <td>...</td>\n",
       "      <td>...</td>\n",
       "      <td>...</td>\n",
       "      <td>...</td>\n",
       "      <td>...</td>\n",
       "      <td>...</td>\n",
       "      <td>...</td>\n",
       "      <td>...</td>\n",
       "      <td>...</td>\n",
       "      <td>...</td>\n",
       "      <td>...</td>\n",
       "      <td>...</td>\n",
       "      <td>...</td>\n",
       "      <td>...</td>\n",
       "      <td>...</td>\n",
       "      <td>...</td>\n",
       "      <td>...</td>\n",
       "    </tr>\n",
       "    <tr>\n",
       "      <th>4623707</th>\n",
       "      <td>2019</td>\n",
       "      <td>349965</td>\n",
       "      <td>110247486</td>\n",
       "      <td>1</td>\n",
       "      <td>1</td>\n",
       "      <td>42</td>\n",
       "      <td>20190624</td>\n",
       "      <td>3</td>\n",
       "      <td>23</td>\n",
       "      <td>J209</td>\n",
       "      <td>J00</td>\n",
       "      <td>1</td>\n",
       "      <td>3</td>\n",
       "      <td>0.20</td>\n",
       "      <td>22130</td>\n",
       "      <td>5400</td>\n",
       "      <td>16730</td>\n",
       "      <td>0</td>\n",
       "      <td>20201222</td>\n",
       "    </tr>\n",
       "    <tr>\n",
       "      <th>4623708</th>\n",
       "      <td>2019</td>\n",
       "      <td>349965</td>\n",
       "      <td>107298827</td>\n",
       "      <td>1</td>\n",
       "      <td>1</td>\n",
       "      <td>42</td>\n",
       "      <td>20190918</td>\n",
       "      <td>3</td>\n",
       "      <td>23</td>\n",
       "      <td>J00</td>\n",
       "      <td>R509</td>\n",
       "      <td>1</td>\n",
       "      <td>3</td>\n",
       "      <td>0.20</td>\n",
       "      <td>16670</td>\n",
       "      <td>4000</td>\n",
       "      <td>12670</td>\n",
       "      <td>0</td>\n",
       "      <td>20201222</td>\n",
       "    </tr>\n",
       "    <tr>\n",
       "      <th>4623709</th>\n",
       "      <td>2019</td>\n",
       "      <td>349965</td>\n",
       "      <td>100112176</td>\n",
       "      <td>1</td>\n",
       "      <td>1</td>\n",
       "      <td>42</td>\n",
       "      <td>20190102</td>\n",
       "      <td>3</td>\n",
       "      <td>11</td>\n",
       "      <td>J00</td>\n",
       "      <td>J040</td>\n",
       "      <td>1</td>\n",
       "      <td>2</td>\n",
       "      <td>0.20</td>\n",
       "      <td>15050</td>\n",
       "      <td>3600</td>\n",
       "      <td>11450</td>\n",
       "      <td>0</td>\n",
       "      <td>20201222</td>\n",
       "    </tr>\n",
       "    <tr>\n",
       "      <th>4623710</th>\n",
       "      <td>2019</td>\n",
       "      <td>349965</td>\n",
       "      <td>103347838</td>\n",
       "      <td>1</td>\n",
       "      <td>1</td>\n",
       "      <td>42</td>\n",
       "      <td>20191222</td>\n",
       "      <td>3</td>\n",
       "      <td>23</td>\n",
       "      <td>J_</td>\n",
       "      <td>R509</td>\n",
       "      <td>1</td>\n",
       "      <td>5</td>\n",
       "      <td>0.20</td>\n",
       "      <td>33350</td>\n",
       "      <td>8100</td>\n",
       "      <td>25250</td>\n",
       "      <td>0</td>\n",
       "      <td>20201222</td>\n",
       "    </tr>\n",
       "    <tr>\n",
       "      <th>4623711</th>\n",
       "      <td>2019</td>\n",
       "      <td>349965</td>\n",
       "      <td>100532904</td>\n",
       "      <td>1</td>\n",
       "      <td>1</td>\n",
       "      <td>42</td>\n",
       "      <td>20190217</td>\n",
       "      <td>3</td>\n",
       "      <td>23</td>\n",
       "      <td>J00</td>\n",
       "      <td>R509</td>\n",
       "      <td>1</td>\n",
       "      <td>3</td>\n",
       "      <td>0.20</td>\n",
       "      <td>23030</td>\n",
       "      <td>5600</td>\n",
       "      <td>17430</td>\n",
       "      <td>0</td>\n",
       "      <td>20201222</td>\n",
       "    </tr>\n",
       "  </tbody>\n",
       "</table>\n",
       "<p>345277 rows × 19 columns</p>\n",
       "</div>"
      ],
      "text/plain": [
       "         기준년도  가입자 일련번호   진료내역일련번호  성별코드  연령대코드  시도코드    요양개시일자  서식코드  진료과목코드  \\\n",
       "253      2019        20  112704847     2      1    27  20190416     3       5   \n",
       "254      2019        20  108365268     2      1    27  20190824     3       1   \n",
       "255      2019        20  112534544     2      1    27  20190430     3      13   \n",
       "256      2019        20  102561116     2      1    27  20190106     3      11   \n",
       "257      2019        20  111541127     2      1    27  20190628     3       1   \n",
       "...       ...       ...        ...   ...    ...   ...       ...   ...     ...   \n",
       "4623707  2019    349965  110247486     1      1    42  20190624     3      23   \n",
       "4623708  2019    349965  107298827     1      1    42  20190918     3      23   \n",
       "4623709  2019    349965  100112176     1      1    42  20190102     3      11   \n",
       "4623710  2019    349965  103347838     1      1    42  20191222     3      23   \n",
       "4623711  2019    349965  100532904     1      1    42  20190217     3      23   \n",
       "\n",
       "          주상병코드   부상병코드  요양일수  입내원일수  심결가산율  심결요양급여비용총액  심결본인부담금  심결보험자부담금  \\\n",
       "253      S42440  S42450     1      1   0.15       26000     5400     20600   \n",
       "254        K121    B009     1      1   0.15       14240     2900     11340   \n",
       "255        J209    J303     1      1   0.15       16500     3400     13100   \n",
       "256       J0390    J209     1      1   0.20       19950     5500     14450   \n",
       "257        T784    L282     1      1   0.15       16600     3400     13200   \n",
       "...         ...     ...   ...    ...    ...         ...      ...       ...   \n",
       "4623707    J209     J00     1      3   0.20       22130     5400     16730   \n",
       "4623708     J00    R509     1      3   0.20       16670     4000     12670   \n",
       "4623709     J00    J040     1      2   0.20       15050     3600     11450   \n",
       "4623710      J_    R509     1      5   0.20       33350     8100     25250   \n",
       "4623711     J00    R509     1      3   0.20       23030     5600     17430   \n",
       "\n",
       "         총처방일수  데이터 기준일자  \n",
       "253          0  20201222  \n",
       "254          2  20201222  \n",
       "255          3  20201222  \n",
       "256          3  20201222  \n",
       "257          1  20201222  \n",
       "...        ...       ...  \n",
       "4623707      0  20201222  \n",
       "4623708      0  20201222  \n",
       "4623709      0  20201222  \n",
       "4623710      0  20201222  \n",
       "4623711      0  20201222  \n",
       "\n",
       "[345277 rows x 19 columns]"
      ]
     },
     "execution_count": 24,
     "metadata": {},
     "output_type": "execute_result"
    }
   ],
   "source": [
    "child = df[(df[\"연령대코드\"] == 0) | (df[\"연령대코드\"] == 1)]\n",
    "child"
   ]
  },
  {
   "cell_type": "code",
   "execution_count": 25,
   "metadata": {},
   "outputs": [
    {
     "data": {
      "text/plain": [
       "<matplotlib.axes._subplots.AxesSubplot at 0x21467816948>"
      ]
     },
     "execution_count": 25,
     "metadata": {},
     "output_type": "execute_result"
    },
    {
     "data": {
      "image/png": "[encoded data removed]",
      "text/plain": [
       "<Figure size 432x288 with 1 Axes>"
      ]
     },
     "metadata": {
      "needs_background": "light"
     },
     "output_type": "display_data"
    }
   ],
   "source": [
    "# 진료과목코드 1은 내과, 11은 소아청소년과, 13은 이비인후과\n",
    "sns.countplot(data=child, x=\"진료과목코드\")"
   ]
  },
  {
   "cell_type": "code",
   "execution_count": null,
   "metadata": {},
   "outputs": [],
   "source": []
  }
 ],
 "metadata": {
  "kernelspec": {
   "display_name": "Python 3",
   "language": "python",
   "name": "python3"
  },
  "language_info": {
   "codemirror_mode": {
    "name": "ipython",
    "version": 3
   },
   "file_extension": ".py",
   "mimetype": "text/x-python",
   "name": "python",
   "nbconvert_exporter": "python",
   "pygments_lexer": "ipython3",
   "version": "3.7.6"
  }
 },
 "nbformat": 4,
 "nbformat_minor": 4
}
